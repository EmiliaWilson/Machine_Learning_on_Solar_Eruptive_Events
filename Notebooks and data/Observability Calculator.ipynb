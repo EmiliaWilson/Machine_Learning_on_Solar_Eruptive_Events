{
 "cells": [
  {
   "cell_type": "code",
   "execution_count": 51,
   "metadata": {},
   "outputs": [],
   "source": [
    "%matplotlib inline\n",
    "import numpy as np\n",
    "import matplotlib.pyplot as plt\n",
    "import pandas as pd\n",
    "import seaborn as sns; sns.set()\n",
    "from matplotlib import dates\n",
    "import math\n",
    "from matplotlib import dates\n",
    "from astropy.time import Time\n",
    "\n",
    "from sklearn.pipeline import make_pipeline\n",
    "from sklearn.preprocessing import Imputer\n",
    "from sklearn.decomposition import PCA\n",
    "from sklearn.preprocessing import normalize\n",
    "plt.style.use('seaborn-dark-palette')"
   ]
  },
  {
   "cell_type": "code",
   "execution_count": 52,
   "metadata": {},
   "outputs": [],
   "source": [
    "sith = pd.read_csv('Jedi_Demon_Additional_Data.csv', low_memory=False)"
   ]
  },
  {
   "cell_type": "code",
   "execution_count": 53,
   "metadata": {},
   "outputs": [
    {
     "data": {
      "text/html": [
       "<div>\n",
       "<style scoped>\n",
       "    .dataframe tbody tr th:only-of-type {\n",
       "        vertical-align: middle;\n",
       "    }\n",
       "\n",
       "    .dataframe tbody tr th {\n",
       "        vertical-align: top;\n",
       "    }\n",
       "\n",
       "    .dataframe thead th {\n",
       "        text-align: right;\n",
       "    }\n",
       "</style>\n",
       "<table border=\"1\" class=\"dataframe\">\n",
       "  <thead>\n",
       "    <tr style=\"text-align: right;\">\n",
       "      <th></th>\n",
       "      <th>Event #</th>\n",
       "      <th>GOES Flare Start Time</th>\n",
       "      <th>GOES Flare Peak Time</th>\n",
       "      <th>GOES Flare Time to Peak In Sec</th>\n",
       "      <th>GOES Flare Class</th>\n",
       "      <th>Flare Class Converted</th>\n",
       "      <th>Pre-Flare Start Time</th>\n",
       "      <th>Quad Depth [%]</th>\n",
       "      <th>Pre-Flare End Time</th>\n",
       "      <th>Flare Interrupt</th>\n",
       "      <th>...</th>\n",
       "      <th>103.2 by 102.6 Fitting Score</th>\n",
       "      <th>Has DEMON Dimming</th>\n",
       "      <th>Intensity</th>\n",
       "      <th>Max Drop</th>\n",
       "      <th>Demon Event #</th>\n",
       "      <th>Demon Flare</th>\n",
       "      <th>Fraction of dimming on disk</th>\n",
       "      <th>Fractional size of off-limb dimming contribution</th>\n",
       "      <th>Is Off-Limb</th>\n",
       "      <th>Off-Limb Percent</th>\n",
       "    </tr>\n",
       "  </thead>\n",
       "  <tbody>\n",
       "    <tr>\n",
       "      <th>0</th>\n",
       "      <td>1.0</td>\n",
       "      <td>2010-05-04 16:15:00.000</td>\n",
       "      <td>2010-05-04 16:29:00.000</td>\n",
       "      <td>840.0</td>\n",
       "      <td>C3.6</td>\n",
       "      <td>360</td>\n",
       "      <td>2010-05-04 08:29:00.000</td>\n",
       "      <td>0.0</td>\n",
       "      <td>2010-05-04 16:29:00.000</td>\n",
       "      <td>True</td>\n",
       "      <td>...</td>\n",
       "      <td>NaN</td>\n",
       "      <td>False</td>\n",
       "      <td>NaN</td>\n",
       "      <td>NaN</td>\n",
       "      <td>NaN</td>\n",
       "      <td>NaN</td>\n",
       "      <td>NaN</td>\n",
       "      <td>NaN</td>\n",
       "      <td>False</td>\n",
       "      <td>NaN</td>\n",
       "    </tr>\n",
       "  </tbody>\n",
       "</table>\n",
       "<p>1 rows × 24326 columns</p>\n",
       "</div>"
      ],
      "text/plain": [
       "   Event #    GOES Flare Start Time     GOES Flare Peak Time  \\\n",
       "0      1.0  2010-05-04 16:15:00.000  2010-05-04 16:29:00.000   \n",
       "\n",
       "   GOES Flare Time to Peak In Sec GOES Flare Class  Flare Class Converted  \\\n",
       "0                           840.0             C3.6                    360   \n",
       "\n",
       "      Pre-Flare Start Time  Quad Depth [%]       Pre-Flare End Time  \\\n",
       "0  2010-05-04 08:29:00.000             0.0  2010-05-04 16:29:00.000   \n",
       "\n",
       "   Flare Interrupt        ...         103.2 by 102.6 Fitting Score  \\\n",
       "0             True        ...                                  NaN   \n",
       "\n",
       "   Has DEMON Dimming  Intensity  Max Drop  Demon Event #  Demon Flare  \\\n",
       "0              False        NaN       NaN            NaN          NaN   \n",
       "\n",
       "   Fraction of dimming on disk  \\\n",
       "0                          NaN   \n",
       "\n",
       "   Fractional size of off-limb dimming contribution  Is Off-Limb  \\\n",
       "0                                               NaN        False   \n",
       "\n",
       "   Off-Limb Percent  \n",
       "0               NaN  \n",
       "\n",
       "[1 rows x 24326 columns]"
      ]
     },
     "execution_count": 53,
     "metadata": {},
     "output_type": "execute_result"
    }
   ],
   "source": [
    "sith.head(1)"
   ]
  },
  {
   "cell_type": "code",
   "execution_count": 54,
   "metadata": {
    "scrolled": true
   },
   "outputs": [
    {
     "data": {
      "text/plain": [
       "75"
      ]
     },
     "execution_count": 54,
     "metadata": {},
     "output_type": "execute_result"
    }
   ],
   "source": [
    "sith.loc[:, '21.1 Duration [s]'].count()"
   ]
  },
  {
   "cell_type": "code",
   "execution_count": 55,
   "metadata": {},
   "outputs": [],
   "source": [
    "def turnIntoSeconds_jedi_demon(timeArray):\n",
    "    secondArray = []\n",
    "    \n",
    "    for i in range(len (timeArray)):\n",
    "        timeValue = timeArray[i]\n",
    "        if(str(timeValue) != 'nan'):\n",
    "            hours = timeValue[11:13]\n",
    "            minutes = timeValue[14:16]\n",
    "            seconds = timeValue[17:19]\n",
    "\n",
    "            secondHours = round(float(hours) * 60 * 60)\n",
    "            minuteHours = round(float(minutes) * 60)\n",
    "            secondFloat = float(seconds)\n",
    "\n",
    "            secondArray.append((secondHours + minuteHours + secondFloat))\n",
    "        else:\n",
    "            secondArray.append(np.nan)\n",
    "    return secondArray"
   ]
  },
  {
   "cell_type": "code",
   "execution_count": 56,
   "metadata": {},
   "outputs": [],
   "source": [
    "def time_diff(start, end):\n",
    "    SEC_IN_DAY = 86400\n",
    "    delta_time = []\n",
    "    for i in range(len(end)):\n",
    "        if end[i] < start[i]:\n",
    "            delta_time.append(end[i] + (SEC_IN_DAY - start[i]))          \n",
    "        else:\n",
    "            delta_time.append(end[i] - start[i])\n",
    "    return delta_time"
   ]
  },
  {
   "cell_type": "code",
   "execution_count": 57,
   "metadata": {},
   "outputs": [],
   "source": [
    "def time_to_peak(start_times, peak_times):\n",
    "    start = start_times.copy()\n",
    "    peak = peak_times.copy()\n",
    "    start_sec = turnIntoSeconds_jedi_demon(start)\n",
    "    peak_sec = turnIntoSeconds_jedi_demon(peak)\n",
    "    timeToPeak = time_diff(start_sec, peak_sec)\n",
    "    return timeToPeak"
   ]
  },
  {
   "cell_type": "code",
   "execution_count": 58,
   "metadata": {},
   "outputs": [
    {
     "data": {
      "text/html": [
       "<div>\n",
       "<style scoped>\n",
       "    .dataframe tbody tr th:only-of-type {\n",
       "        vertical-align: middle;\n",
       "    }\n",
       "\n",
       "    .dataframe tbody tr th {\n",
       "        vertical-align: top;\n",
       "    }\n",
       "\n",
       "    .dataframe thead th {\n",
       "        text-align: right;\n",
       "    }\n",
       "</style>\n",
       "<table border=\"1\" class=\"dataframe\">\n",
       "  <thead>\n",
       "    <tr style=\"text-align: right;\">\n",
       "      <th></th>\n",
       "      <th>17.1 Depth Time</th>\n",
       "      <th>17.1 Slope Start Time</th>\n",
       "      <th>17.1 Slope End Time</th>\n",
       "      <th>17.1 Duration Start Time</th>\n",
       "      <th>17.1 Duration End Time</th>\n",
       "      <th>17.1 Duration [s]</th>\n",
       "    </tr>\n",
       "  </thead>\n",
       "  <tbody>\n",
       "    <tr>\n",
       "      <th>7</th>\n",
       "      <td>2010-06-12 01:25:09</td>\n",
       "      <td>2010-06-12 00:57:00</td>\n",
       "      <td>2010-06-12 01:25:09</td>\n",
       "      <td>NaN</td>\n",
       "      <td>NaN</td>\n",
       "      <td>NaN</td>\n",
       "    </tr>\n",
       "    <tr>\n",
       "      <th>8</th>\n",
       "      <td>2010-06-12 04:16:09</td>\n",
       "      <td>2010-06-12 04:06:00</td>\n",
       "      <td>2010-06-12 04:16:09</td>\n",
       "      <td>NaN</td>\n",
       "      <td>NaN</td>\n",
       "      <td>NaN</td>\n",
       "    </tr>\n",
       "    <tr>\n",
       "      <th>9</th>\n",
       "      <td>2010-06-12 09:43:09</td>\n",
       "      <td>2010-06-12 09:17:00</td>\n",
       "      <td>2010-06-12 09:43:09</td>\n",
       "      <td>2010-06-12 09:29:09</td>\n",
       "      <td>2010-06-12 11:06:09</td>\n",
       "      <td>5820.0</td>\n",
       "    </tr>\n",
       "    <tr>\n",
       "      <th>16</th>\n",
       "      <td>2010-06-13 11:20:09</td>\n",
       "      <td>2010-06-13 10:53:00</td>\n",
       "      <td>2010-06-13 11:20:09</td>\n",
       "      <td>NaN</td>\n",
       "      <td>NaN</td>\n",
       "      <td>NaN</td>\n",
       "    </tr>\n",
       "    <tr>\n",
       "      <th>19</th>\n",
       "      <td>2010-07-09 09:20:05</td>\n",
       "      <td>2010-07-09 09:01:00</td>\n",
       "      <td>2010-07-09 09:20:05</td>\n",
       "      <td>NaN</td>\n",
       "      <td>NaN</td>\n",
       "      <td>NaN</td>\n",
       "    </tr>\n",
       "  </tbody>\n",
       "</table>\n",
       "</div>"
      ],
      "text/plain": [
       "        17.1 Depth Time 17.1 Slope Start Time  17.1 Slope End Time  \\\n",
       "7   2010-06-12 01:25:09   2010-06-12 00:57:00  2010-06-12 01:25:09   \n",
       "8   2010-06-12 04:16:09   2010-06-12 04:06:00  2010-06-12 04:16:09   \n",
       "9   2010-06-12 09:43:09   2010-06-12 09:17:00  2010-06-12 09:43:09   \n",
       "16  2010-06-13 11:20:09   2010-06-13 10:53:00  2010-06-13 11:20:09   \n",
       "19  2010-07-09 09:20:05   2010-07-09 09:01:00  2010-07-09 09:20:05   \n",
       "\n",
       "   17.1 Duration Start Time 17.1 Duration End Time  17.1 Duration [s]  \n",
       "7                       NaN                    NaN                NaN  \n",
       "8                       NaN                    NaN                NaN  \n",
       "9       2010-06-12 09:29:09    2010-06-12 11:06:09             5820.0  \n",
       "16                      NaN                    NaN                NaN  \n",
       "19                      NaN                    NaN                NaN  "
      ]
     },
     "execution_count": 58,
     "metadata": {},
     "output_type": "execute_result"
    }
   ],
   "source": [
    "temp1 = sith[['17.1 Depth Time', '17.1 Slope Start Time', '17.1 Slope End Time', '17.1 Duration Start Time', '17.1 Duration End Time', '17.1 Duration [s]']]\n",
    "temp1.dropna(how='all').head()"
   ]
  },
  {
   "cell_type": "code",
   "execution_count": 200,
   "metadata": {},
   "outputs": [],
   "source": [
    "def observability_calc(wavelengths, integrationTime, stnPerent):\n",
    "    import numpy as np#idk but for some reason it forgets what numpy is unless i put it here\n",
    "    #Dimming Depth values for wavelength l\n",
    "    \"\"\"takes 3 parameters, wavelength is a list of strings, integrationTime and stnPercent\n",
    "    are a float or int, return avg percent change for each dimming and percent jedi would be above the threshold\"\"\"\n",
    "    output_df = pd.DataFrame()\n",
    "    output_df2 = pd.DataFrame()\n",
    "    index = 0 #lazy way of keeping track of what index i need to insert into\n",
    "    for l in wavelengths:\n",
    "        \n",
    "        dd = sith.loc[:, l+' Depth [%]'].values\n",
    "        #duration values of wavelength\n",
    "        durations = sith.loc[:, l+' Duration [s]']\n",
    "        #start time to peak time in seconds\n",
    "        stp = time_to_peak(sith.loc[:, l+' Slope Start Time'], sith.loc[:, l+' Depth Time'])\n",
    "        stp = np.array(stp)\n",
    "        #peak time to end time in seconds\n",
    "        pte = []\n",
    "        ste = [] #start to end times, if duration[i] exists, uses that. if nan, just double stp time.\n",
    "        s1, s2 = [], [] #linear slopes for each events, s1 = to peak, s2= to end\n",
    "        \n",
    "        for i in range(len(sith)):\n",
    "            if(np.isnan(durations[i])):\n",
    "                pte.append(stp[i])\n",
    "                ste.append(stp[i] + stp[i])\n",
    "            else:\n",
    "                pte.append(durations[i] - stp[i])\n",
    "                ste.append(durations[i])\n",
    "         \n",
    "        pte = np.array(pte)\n",
    "        for i in range(len(sith)):\n",
    "            s1.append(dd[i] / stp[i])\n",
    "            s2.append(dd[i] / pte[i])\n",
    "            \n",
    "        ap = []\n",
    "        for i in range(len(sith)):\n",
    "            if np.isnan(s1[i]) or np.isnan(s2[i]):\n",
    "                ap.append(np.nan)\n",
    "            elif integrationTime > ste[i]:\n",
    "                ap.append((.5 * dd[i] * ste[i]) / integrationTime)\n",
    "                #  i.e. take the average amount of dimming over the entire time, which in the linear approximation\n",
    "                #is .5 * the total dimming depth.  Then, if integration time T is longer than the total dimming time (ET-ST),\n",
    "                #smear it over the exposure time using the ratio.\n",
    "            else:\n",
    "                #This lets us sample the “best” of the depth from both the incoming and recovery phase\n",
    "                t1 = integrationTime / (1 + s1[i]/s2[i])\n",
    "                ap.append((.5*(t1*(t1 * s1[i])) + t1*(t1*s1[i]*(s1[i]/s2[i])))/integrationTime)\n",
    "                \n",
    "                # i.e. if the dimming is longer than the estimated integration time, then we want to focus in on\n",
    "                #the strongest dimming period to determine (if we’re lucky) how strong the integrated dimming will be.\n",
    "                \n",
    "                # We shift the “T” window in the diagram below to choose the ideal observation time, and then\n",
    "                #figure out what the average dimming will be for that period.   Of course, we could choose a random\n",
    "                #window, but since this is proof of concept we want to examine the best case.\n",
    "                \n",
    "        num_dimmings_above_thres = 0\n",
    "        for i in range(len(sith)):\n",
    "            if not np.isnan(ap[i]) and ap[i] >= stnPerent:\n",
    "                num_dimmings_above_thres += 1\n",
    "        \n",
    "        #shows the percent in the entire jedi catalog\n",
    "        percent_above_jedi = (num_dimmings_above_thres / len(sith)) * 100\n",
    "        #shows the percent in just the wavelength\n",
    "        percent_above_wavelength = (num_dimmings_above_thres / sith.loc[:, l+' Depth [%]'].count()) * 100\n",
    "        \n",
    "        output_df.insert(index, l+' AP[%]', ap)\n",
    "        index += 1\n",
    "        output_df.insert(index, l+' NP[%]', percent_above_jedi)\n",
    "        index += 1\n",
    "        output_df.insert(index, l+' NP for wavelength[%]', percent_above_wavelength)\n",
    "        index += 1\n",
    "        \n",
    "        \n",
    "        \n",
    "    return output_df\n",
    "    "
   ]
  },
  {
   "cell_type": "code",
   "execution_count": 396,
   "metadata": {},
   "outputs": [],
   "source": [
    "list1, list2 = [], []\n",
    "for index, val in enumerate(np.arange(.1, 2.1, .05)):\n",
    "    output = observability_calc(['18.0'], 480, val)\n",
    "    list1.append(output.loc[:, '18.0 NP for wavelength[%]'].values[:1])\n",
    "    list2.append(val)"
   ]
  },
  {
   "cell_type": "code",
   "execution_count": 397,
   "metadata": {},
   "outputs": [],
   "source": [
    "info_df = pd.DataFrame(list1)\n",
    "info_df.insert(1, '1', list2)"
   ]
  },
  {
   "cell_type": "code",
   "execution_count": 398,
   "metadata": {
    "scrolled": false
   },
   "outputs": [
    {
     "data": {
      "text/plain": [
       "Text(0.5,1,'21.1 Observability for 5 minutes')"
      ]
     },
     "execution_count": 398,
     "metadata": {},
     "output_type": "execute_result"
    },
    {
     "data": {
      "image/png": "[encoded data removed]",
      "text/plain": [
       "<Figure size 432x288 with 1 Axes>"
      ]
     },
     "metadata": {},
     "output_type": "display_data"
    }
   ],
   "source": [
    "plt.scatter(info_df.iloc[:, 1], info_df.iloc[:, 0]);\n",
    "plt.ylabel('% of wavelength')\n",
    "plt.xlabel('signal to noise percent')\n",
    "plt.title('21.1 Observability for 5 minutes')\n",
    "#plt.savefig('21.1Observability5.png', format='png', dpi=1200)"
   ]
  },
  {
   "cell_type": "code",
   "execution_count": 433,
   "metadata": {},
   "outputs": [],
   "source": [
    "list1, list2 = [], []\n",
    "for index, val in enumerate(np.arange(1, 480, 4)):\n",
    "    output = observability_calc(['21.1'], val, .1)\n",
    "    list1.append(output.loc[:, '21.1 NP for wavelength[%]'].values[:1])\n",
    "    list2.append(val)"
   ]
  },
  {
   "cell_type": "code",
   "execution_count": 434,
   "metadata": {},
   "outputs": [],
   "source": [
    "info_df2 = pd.DataFrame(list1)\n",
    "info_df2.insert(1, '1', list2)"
   ]
  },
  {
   "cell_type": "code",
   "execution_count": 435,
   "metadata": {},
   "outputs": [
    {
     "data": {
      "text/plain": [
       "Text(0.5,1,'21.1 Observability with .2 threshold')"
      ]
     },
     "execution_count": 435,
     "metadata": {},
     "output_type": "execute_result"
    },
    {
     "data": {
      "image/png": "[encoded data removed]",
      "text/plain": [
       "<Figure size 432x288 with 1 Axes>"
      ]
     },
     "metadata": {},
     "output_type": "display_data"
    }
   ],
   "source": [
    "plt.scatter(info_df2.iloc[:, 1], info_df2.iloc[:, 0]);\n",
    "plt.ylabel('% of wavelength')\n",
    "plt.xlabel('Integration Time')\n",
    "plt.title('21.1 Observability with .2 threshold')\n",
    "#plt.savefig('21.1Observability5.png', format='png', dpi=1200)"
   ]
  }
 ],
 "metadata": {
  "celltoolbar": "Attachments",
  "kernelspec": {
   "display_name": "Python 3",
   "language": "python",
   "name": "python3"
  },
  "language_info": {
   "codemirror_mode": {
    "name": "ipython",
    "version": 3
   },
   "file_extension": ".py",
   "mimetype": "text/x-python",
   "name": "python",
   "nbconvert_exporter": "python",
   "pygments_lexer": "ipython3",
   "version": "3.6.5"
  }
 },
 "nbformat": 4,
 "nbformat_minor": 2
}
